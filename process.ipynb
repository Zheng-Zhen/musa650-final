{
 "cells": [
  {
   "cell_type": "code",
   "execution_count": 2,
   "metadata": {},
   "outputs": [],
   "source": [
    "import numpy as np\n",
    "import cv2\n",
    "import os\n",
    "from tqdm.notebook import tqdm"
   ]
  },
  {
   "cell_type": "code",
   "execution_count": 13,
   "metadata": {},
   "outputs": [
    {
     "name": "stdout",
     "output_type": "stream",
     "text": [
      "Reading images ...\n"
     ]
    },
    {
     "data": {
      "application/vnd.jupyter.widget-view+json": {
       "model_id": "8bb8ed7b1f2844b480e46d4b89e133c5",
       "version_major": 2,
       "version_minor": 0
      },
      "text/plain": [
       "  0%|          | 0/22529 [00:00<?, ?it/s]"
      ]
     },
     "metadata": {},
     "output_type": "display_data"
    }
   ],
   "source": [
    "print('Reading images ...')\n",
    "dMatCNN = []\n",
    "count=0\n",
    "for eachImg in tqdm(os.listdir(r\"G:\\.shortcut-targets-by-id\\1ZukHIPgeXG6L5RiJ5LrenKJ_AAs3Q9GF\\650-fin\\train\\x\")):\n",
    "  tmpRGB = cv2.imread(fr\"G:\\.shortcut-targets-by-id\\1ZukHIPgeXG6L5RiJ5LrenKJ_AAs3Q9GF\\650-fin\\train\\x\\{eachImg}\")\n",
    "  # tmpRGBCNN = np.array(tmpRGB)#.astype(np.uint8)\n",
    "  dMatCNN.append(tmpRGB)\n",
    "  count = count +1"
   ]
  },
  {
   "cell_type": "code",
   "execution_count": 48,
   "metadata": {},
   "outputs": [
    {
     "name": "stdout",
     "output_type": "stream",
     "text": [
      "Reading images ...\n"
     ]
    },
    {
     "data": {
      "application/vnd.jupyter.widget-view+json": {
       "model_id": "a4e61e11b67e4c83987ce13e0270a04a",
       "version_major": 2,
       "version_minor": 0
      },
      "text/plain": [
       "  0%|          | 0/22529 [00:00<?, ?it/s]"
      ]
     },
     "metadata": {},
     "output_type": "display_data"
    }
   ],
   "source": [
    "print('Reading images ...')\n",
    "labelMat = []\n",
    "for eachImg in tqdm(os.listdir(r\"G:\\.shortcut-targets-by-id\\1ZukHIPgeXG6L5RiJ5LrenKJ_AAs3Q9GF\\650-fin\\train\\y\")):\n",
    "  tmpRGB = cv2.imread(fr\"G:\\.shortcut-targets-by-id\\1ZukHIPgeXG6L5RiJ5LrenKJ_AAs3Q9GF\\650-fin\\train\\y\\{eachImg}\", cv2.IMREAD_GRAYSCALE)\n",
    "  # tmpRGBCNN = np.array(tmpRGB)#.astype(np.uint8)\n",
    "  labelMat.append(tmpRGB)"
   ]
  },
  {
   "cell_type": "code",
   "execution_count": 49,
   "metadata": {},
   "outputs": [],
   "source": [
    "dMatCNN2 = np.array(dMatCNN[:-1])\n",
    "labelMat2 = np.array(labelMat[:-1])"
   ]
  },
  {
   "cell_type": "code",
   "execution_count": 51,
   "metadata": {},
   "outputs": [
    {
     "data": {
      "text/plain": [
       "(22528, 256, 256, 3)"
      ]
     },
     "execution_count": 51,
     "metadata": {},
     "output_type": "execute_result"
    }
   ],
   "source": [
    "dMatCNN2.shape\n"
   ]
  },
  {
   "cell_type": "code",
   "execution_count": 52,
   "metadata": {},
   "outputs": [],
   "source": [
    "with open(r\"G:\\.shortcut-targets-by-id\\1ZukHIPgeXG6L5RiJ5LrenKJ_AAs3Q9GF\\650-fin\\train\\trainTest.npy\", 'wb') as f:\n",
    "    np.save(f, dMatCNN2)\n",
    "    np.save(f, labelMat2)"
   ]
  }
 ],
 "metadata": {
  "interpreter": {
   "hash": "07efdcd4b820c98a756949507a4d29d7862823915ec7477944641bea022f4f62"
  },
  "kernelspec": {
   "display_name": "Python 3.9.7 ('base')",
   "language": "python",
   "name": "python3"
  },
  "language_info": {
   "codemirror_mode": {
    "name": "ipython",
    "version": 3
   },
   "file_extension": ".py",
   "mimetype": "text/x-python",
   "name": "python",
   "nbconvert_exporter": "python",
   "pygments_lexer": "ipython3",
   "version": "3.9.12"
  },
  "orig_nbformat": 4
 },
 "nbformat": 4,
 "nbformat_minor": 2
}
